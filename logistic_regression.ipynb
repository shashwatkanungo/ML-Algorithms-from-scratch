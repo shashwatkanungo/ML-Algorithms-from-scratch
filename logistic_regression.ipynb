{
 "cells": [
  {
   "cell_type": "code",
   "execution_count": 13,
   "metadata": {},
   "outputs": [],
   "source": [
    "import numpy as np\n",
    "import matplotlib.pyplot as plt\n",
    "from sklearn.datasets import make_classification\n",
    "from sklearn.model_selection import train_test_split\n",
    "from sklearn.preprocessing import StandardScaler\n"
   ]
  },
  {
   "cell_type": "code",
   "execution_count": 14,
   "metadata": {},
   "outputs": [],
   "source": [
    "## step 1 : generate synthetic data\n",
    "X, y = make_classification(n_samples=500, n_features=2, n_redundant=0, n_informative=2, n_clusters_per_class=1, random_state=42)\n",
    "y = y.reshape(-1,1)\n"
   ]
  },
  {
   "cell_type": "code",
   "execution_count": 15,
   "metadata": {},
   "outputs": [],
   "source": [
    "# standardizing the data\n",
    "scaler = StandardScaler()\n",
    "X = scaler.fit_transform(X)\n"
   ]
  },
  {
   "cell_type": "code",
   "execution_count": 16,
   "metadata": {},
   "outputs": [],
   "source": [
    "# train test split\n",
    "X_train, X_test, y_train, y_test = train_test_split(X, y, test_size=0.2, random_state=42)\n"
   ]
  },
  {
   "cell_type": "code",
   "execution_count": 17,
   "metadata": {},
   "outputs": [],
   "source": [
    "## sigmoid function\n",
    "def sigmoid(z):\n",
    "    return 1 / (1 + np.exp(-z))\n",
    "\n",
    "# loss function\n",
    "def compute_loss(y, y_pred):\n",
    "    epsilon = 1e-15  # to avoid log(0)\n",
    "    y_pred = np.clip(y_pred, epsilon, 1 - epsilon)\n",
    "    return -np.mean(y * np.log(y_pred) + (1 - y) * np.log(1 - y_pred))\n",
    "\n",
    "# logistic regression\n",
    "class LogisticRegressionScratch:\n",
    "    def __init__(self, lr=0.1, epochs=1000):\n",
    "        self.lr = lr\n",
    "        self.epochs = epochs\n",
    "\n",
    "    def fit(self, X, y):\n",
    "        self.m, self.n = X.shape\n",
    "        self.W = np.zeros((self.n, 1))\n",
    "        self.b = 0\n",
    "        self.losses = []\n",
    "\n",
    "        for i in range(self.epochs):\n",
    "            Z = np.dot(X, self.W) + self.b\n",
    "            y_pred = sigmoid(Z)\n",
    "            \n",
    "            loss = compute_loss(y, y_pred)\n",
    "            self.losses.append(loss)\n",
    "\n",
    "            dW = np.dot(X.T, (y_pred - y)) / self.m\n",
    "            db = np.sum(y_pred - y) / self.m\n",
    "\n",
    "            self.W -= self.lr * dW\n",
    "            self.b -= self.lr * db\n",
    "\n",
    "            if i % 100 == 0:\n",
    "                print(f\"Epoch {i}, Loss: {loss:.4f}\")\n",
    "    \n",
    "    def predict(self, X):\n",
    "        Z = np.dot(X, self.W) + self.b\n",
    "        return sigmoid(Z) >= 0.5"
   ]
  },
  {
   "cell_type": "code",
   "execution_count": 18,
   "metadata": {},
   "outputs": [
    {
     "name": "stdout",
     "output_type": "stream",
     "text": [
      "Epoch 0, Loss: 0.6931\n",
      "Epoch 100, Loss: 0.3829\n",
      "Epoch 200, Loss: 0.3471\n",
      "Epoch 300, Loss: 0.3351\n",
      "Epoch 400, Loss: 0.3298\n",
      "Epoch 500, Loss: 0.3271\n",
      "Epoch 600, Loss: 0.3256\n",
      "Epoch 700, Loss: 0.3247\n",
      "Epoch 800, Loss: 0.3242\n",
      "Epoch 900, Loss: 0.3239\n"
     ]
    }
   ],
   "source": [
    "## Training the model\n",
    "model = LogisticRegressionScratch(lr=0.1, epochs= 1000)\n",
    "model.fit(X_train, y_train)\n"
   ]
  },
  {
   "cell_type": "code",
   "execution_count": 19,
   "metadata": {},
   "outputs": [
    {
     "name": "stdout",
     "output_type": "stream",
     "text": [
      "\n",
      "Test Accuracy: 88.00%\n"
     ]
    }
   ],
   "source": [
    "# Evaluation\n",
    "y_pred = model.predict(X_test)\n",
    "accuracy = np.mean(y_pred == y_test)\n",
    "print(f\"\\nTest Accuracy: {accuracy * 100:.2f}%\")\n"
   ]
  },
  {
   "cell_type": "code",
   "execution_count": 20,
   "metadata": {},
   "outputs": [],
   "source": [
    "## plotting the decision boundaries \n",
    "def plot_decision_boundary(X,y, model):\n",
    "    x_min, x_max = X[:, 0].min() - .5, X[:, 0].max() + .5\n",
    "    y_min, y_max = X[:, 1].min() - .5, X[:, 1].max() + .5\n",
    "    xx, yy = np.meshgrid(np.linspace(x_min, x_max, 200),\n",
    "                         np.linspace(y_min, y_max, 200))\n",
    "    grid = np.c_[xx.ravel(), yy.ravel()]\n",
    "    probs = sigmoid(np.dot(grid, model.W) + model.b).reshape(xx.shape)\n",
    "\n",
    "\n",
    "    plt.contourf(xx, yy, probs, levels=[0, 0.5, 1], cmap=\"RdBu\", alpha=0.6)\n",
    "    plt.scatter(X[:, 0], X[:, 1], c=y.flatten(), cmap=\"RdBu\", edgecolors='k')\n",
    "    plt.title(\"Logistic Regression Decision Boundary\")\n",
    "    plt.xlabel(\"Feature 1\")\n",
    "    plt.ylabel(\"Feature 2\")\n",
    "    plt.show()\n",
    "\n",
    "    plot_decision_boundary(X, y, model)\n",
    "    "
   ]
  },
  {
   "cell_type": "code",
   "execution_count": 21,
   "metadata": {},
   "outputs": [
    {
     "data": {
      "image/png": "[encoded data removed]",
      "text/plain": [
       "<Figure size 640x480 with 1 Axes>"
      ]
     },
     "metadata": {},
     "output_type": "display_data"
    }
   ],
   "source": [
    "### Plotting the loss curve\n",
    "plt.plot(model.losses)\n",
    "plt.title(\"Loss over epochs\")\n",
    "plt.xlabel(\"Epoch\")\n",
    "plt.ylabel(\"Binary Cross-Entropy Loss\")\n",
    "plt.grid(True)\n",
    "plt.show()\n"
   ]
  },
  {
   "cell_type": "code",
   "execution_count": null,
   "metadata": {},
   "outputs": [],
   "source": []
  }
 ],
 "metadata": {
  "kernelspec": {
   "display_name": "Python 3",
   "language": "python",
   "name": "python3"
  },
  "language_info": {
   "codemirror_mode": {
    "name": "ipython",
    "version": 3
   },
   "file_extension": ".py",
   "mimetype": "text/x-python",
   "name": "python",
   "nbconvert_exporter": "python",
   "pygments_lexer": "ipython3",
   "version": "3.13.2"
  }
 },
 "nbformat": 4,
 "nbformat_minor": 2
}
